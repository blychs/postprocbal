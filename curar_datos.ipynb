{
 "cells": [
  {
   "cell_type": "code",
   "execution_count": 1,
   "id": "46a64396-141a-454a-a16c-08db6bbed7eb",
   "metadata": {},
   "outputs": [],
   "source": [
    "import pandas as pd\n",
    "from unidecode import unidecode"
   ]
  },
  {
   "cell_type": "code",
   "execution_count": 33,
   "id": "61bf9ead-db00-40c3-a6fc-506f3b56ff1e",
   "metadata": {},
   "outputs": [
    {
     "name": "stdout",
     "output_type": "stream",
     "text": [
      "nombre            object\n",
      "edad               int64\n",
      "amigos            object\n",
      "casa              object\n",
      "fecha     datetime64[ns]\n",
      "dtype: object\n",
      "nombre            object\n",
      "edad               int64\n",
      "amigos            object\n",
      "casa              object\n",
      "fecha     datetime64[ns]\n",
      "dtype: object\n"
     ]
    },
    {
     "data": {
      "text/html": [
       "<div>\n",
       "<style scoped>\n",
       "    .dataframe tbody tr th:only-of-type {\n",
       "        vertical-align: middle;\n",
       "    }\n",
       "\n",
       "    .dataframe tbody tr th {\n",
       "        vertical-align: top;\n",
       "    }\n",
       "\n",
       "    .dataframe thead th {\n",
       "        text-align: right;\n",
       "    }\n",
       "</style>\n",
       "<table border=\"1\" class=\"dataframe\">\n",
       "  <thead>\n",
       "    <tr style=\"text-align: right;\">\n",
       "      <th></th>\n",
       "      <th>nombre</th>\n",
       "      <th>edad</th>\n",
       "      <th>amigos</th>\n",
       "      <th>casa</th>\n",
       "      <th>fecha</th>\n",
       "    </tr>\n",
       "  </thead>\n",
       "  <tbody>\n",
       "    <tr>\n",
       "      <th>0</th>\n",
       "      <td>JUAN</td>\n",
       "      <td>11</td>\n",
       "      <td>MARTA</td>\n",
       "      <td>MAURE 3038</td>\n",
       "      <td>2001-01-01</td>\n",
       "    </tr>\n",
       "    <tr>\n",
       "      <th>1</th>\n",
       "      <td>NICOLAS</td>\n",
       "      <td>21</td>\n",
       "      <td>RAMIRO</td>\n",
       "      <td>RODRIGUEZ PENA</td>\n",
       "      <td>2002-02-02</td>\n",
       "    </tr>\n",
       "    <tr>\n",
       "      <th>2</th>\n",
       "      <td>MARIA</td>\n",
       "      <td>35</td>\n",
       "      <td>TINTIN</td>\n",
       "      <td>CALABAZA</td>\n",
       "      <td>2005-04-03</td>\n",
       "    </tr>\n",
       "    <tr>\n",
       "      <th>3</th>\n",
       "      <td>PEDRO</td>\n",
       "      <td>4</td>\n",
       "      <td>ARISTOTELES</td>\n",
       "      <td>PENELOPE</td>\n",
       "      <td>2008-07-06</td>\n",
       "    </tr>\n",
       "  </tbody>\n",
       "</table>\n",
       "</div>"
      ],
      "text/plain": [
       "    nombre  edad        amigos            casa      fecha\n",
       "0     JUAN     11        MARTA      MAURE 3038 2001-01-01\n",
       "1  NICOLAS     21       RAMIRO  RODRIGUEZ PENA 2002-02-02\n",
       "2    MARIA     35       TINTIN        CALABAZA 2005-04-03\n",
       "3    PEDRO      4  ARISTOTELES        PENELOPE 2008-07-06"
      ]
     },
     "metadata": {},
     "output_type": "display_data"
    }
   ],
   "source": [
    "df = pd.read_excel('prueba_datos.xlsx')\n",
    "print(df.dtypes)\n",
    "df = df.applymap(lambda s: s.upper() if type(s) == str else s)\n",
    "df = df.applymap(lambda s: unidecode(s) if type(s) == str else s)\n",
    "print(df.dtypes)\n",
    "display(df)\n",
    "#df.apply()"
   ]
  },
  {
   "cell_type": "code",
   "execution_count": null,
   "id": "62b8a82e-f4c9-46cb-962c-62171b03ccdc",
   "metadata": {},
   "outputs": [],
   "source": []
  }
 ],
 "metadata": {
  "kernelspec": {
   "display_name": "Python 3 (ipykernel)",
   "language": "python",
   "name": "python3"
  },
  "language_info": {
   "codemirror_mode": {
    "name": "ipython",
    "version": 3
   },
   "file_extension": ".py",
   "mimetype": "text/x-python",
   "name": "python",
   "nbconvert_exporter": "python",
   "pygments_lexer": "ipython3",
   "version": "3.11.0"
  }
 },
 "nbformat": 4,
 "nbformat_minor": 5
}
